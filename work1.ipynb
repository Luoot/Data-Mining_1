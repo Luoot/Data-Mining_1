{
 "cells": [
  {
   "cell_type": "markdown",
   "id": "3cbaea94",
   "metadata": {},
   "source": [
    "      数据探索性分析与数据预处理\n",
    "   \n",
    "   计算机学院    马渊沐   3220220949"
   ]
  },
  {
   "cell_type": "markdown",
   "id": "884356ae",
   "metadata": {},
   "source": [
    "数据集1：MovieLens 10M Dataset (Latest Version)\n",
    "\n",
    "1.1 数据摘要\n",
    "\n",
    "MovieLens 10M Dataset数据集中包含了电影数据集、打分数据集、标签数据集，其中movies.dat（电影数据集）包含电影ID、电影名称、电影类型等属性；ratings.dat（打分数据集）包含⽤户ID、电影ID、打分等属性；tags.dat（标签数据集）包含⽤户ID、电影ID、标签内容、时间戳等属性。 "
   ]
  },
  {
   "cell_type": "markdown",
   "id": "d2ef3088",
   "metadata": {},
   "source": [
    "（1）标称属性的数据摘要\n",
    "包括电影名称、电影类型、用户ID等属性"
   ]
  },
  {
   "cell_type": "code",
   "execution_count": 13,
   "id": "9cab7e55",
   "metadata": {},
   "outputs": [
    {
     "name": "stdout",
     "output_type": "stream",
     "text": [
      "电影类型: \n",
      " Drama                 5339\n",
      "Comedy                3703\n",
      "Thriller              1706\n",
      "Romance               1685\n",
      "Action                1473\n",
      "Crime                 1118\n",
      "Adventure             1025\n",
      "Horror                1013\n",
      "Sci-Fi                 754\n",
      "Fantasy                543\n",
      "Children               528\n",
      "War                    511\n",
      "Mystery                509\n",
      "Documentary            482\n",
      "Musical                436\n",
      "Animation              286\n",
      "Western                275\n",
      "Film-Noir              148\n",
      "IMAX                    29\n",
      "(no genres listed)       1\n",
      "dtype: int64\n"
     ]
    }
   ],
   "source": [
    "import os.path as osp\n",
    "import pandas as pd\n",
    "\n",
    "# 导入数据\n",
    "dataset = \"./datasets/MovieLens\"\n",
    "\n",
    "#依次读取电影数据集、打分数据集、标签数据集\n",
    "movies_df = pd.read_csv(osp.join(dataset, 'movies.dat'), sep='::', names=['movieId', 'title', 'genres'], engine='python')\n",
    "ratings_df = pd.read_csv(osp.join(dataset, 'ratings.dat'), sep='::', names=['userId', 'movieId', 'rating', 'timestamp'], engine='python')\n",
    "tags_df = pd.read_csv(osp.join(dataset, 'tags.dat'), sep='::', names=['userId', 'movieId', 'tag', 'timestamp'], engine='python')\n",
    "\n",
    "# 电影类型数据摘要\n",
    "genres = movies_df['genres'].str.split('|', expand=True).unstack().dropna()\n",
    "genres_a = genres.value_counts()\n",
    "print('电影类型: \\n',genres_a)"
   ]
  },
  {
   "cell_type": "markdown",
   "id": "6fff7b3f",
   "metadata": {},
   "source": [
    "可以看出，该数据集中有20种电影类型，其中Drama、Comedy、Thriller为数量前三的电影类型。"
   ]
  },
  {
   "cell_type": "code",
   "execution_count": 14,
   "id": "364b4c8e",
   "metadata": {},
   "outputs": [
    {
     "name": "stdout",
     "output_type": "stream",
     "text": [
      "⽤户ID: \n",
      " 59269    7359\n",
      "67385    7047\n",
      "14463    5169\n",
      "68259    4483\n",
      "27468    4449\n",
      "         ... \n",
      "8773       20\n",
      "54021      20\n",
      "8789       20\n",
      "12650      20\n",
      "16401      20\n",
      "Name: userId, Length: 69878, dtype: int64\n"
     ]
    }
   ],
   "source": [
    "# ⽤户ID数据摘要\n",
    "user_a = ratings_df['userId'].value_counts()\n",
    "print('⽤户ID: \\n',user_a)"
   ]
  },
  {
   "cell_type": "code",
   "execution_count": 15,
   "id": "918272f1",
   "metadata": {},
   "outputs": [
    {
     "name": "stdout",
     "output_type": "stream",
     "text": [
      "电影名称: \n",
      " War of the Worlds (2005)                                                2\n",
      "Last Tycoon, The (1976)                                                 1\n",
      "Money for Nothing (1993)                                                1\n",
      "Silencers, The (1966)                                                   1\n",
      "Where Angels Go, Trouble Follows (1968)                                 1\n",
      "                                                                       ..\n",
      "Anguish (Angustia) (1987)                                               1\n",
      "Blood Spattered Bride, The (La Novia Ensangrentada) (1972)              1\n",
      "City of the Living Dead (Paura nella città dei morti viventi) (1980)    1\n",
      "Endless Summer, The (1966)                                              1\n",
      "Blackadder Back & Forth (1999)                                          1\n",
      "Name: title, Length: 10680, dtype: int64\n"
     ]
    }
   ],
   "source": [
    "# 电影名称数据摘要\n",
    "title_a = movies_df['title'].value_counts()\n",
    "print('电影名称: \\n',title_a)"
   ]
  },
  {
   "cell_type": "markdown",
   "id": "378b0ea4",
   "metadata": {},
   "source": [
    "可以看出，该数据集中共有10681部电影，几乎所有的电影都只有1条记录。"
   ]
  },
  {
   "cell_type": "markdown",
   "id": "a91798fb",
   "metadata": {},
   "source": [
    "（2）数值属性的数据摘要可以看出，该数据集中有20种电影类型，其中Drama、Comedy、Thriller为数量前三的电影类型。\n",
    "包括打分、时间戳属性"
   ]
  },
  {
   "cell_type": "code",
   "execution_count": 18,
   "id": "d594ea80",
   "metadata": {},
   "outputs": [
    {
     "name": "stdout",
     "output_type": "stream",
     "text": [
      "打分: \n",
      " 4.0    2875850\n",
      "3.0    2356676\n",
      "5.0    1544812\n",
      "3.5     879764\n",
      "2.0     790306\n",
      "4.5     585022\n",
      "1.0     384180\n",
      "2.5     370178\n",
      "1.5     118278\n",
      "0.5      94988\n",
      "Name: rating, dtype: int64\n",
      "缺失值数量:  0\n"
     ]
    }
   ],
   "source": [
    "# 评分数据摘要\n",
    "rating_a = ratings_df['rating'].value_counts()\n",
    "rating_null = ratings_df['rating'].isnull().sum()\n",
    "print('打分: \\n',rating_a)\n",
    "print('缺失值数量: ', rating_null)"
   ]
  },
  {
   "cell_type": "markdown",
   "id": "d3505a5c",
   "metadata": {},
   "source": [
    "可以看出，用户打分数据分布在0.5分至5分之间，其中打4分的数量最多，打0.5分的数量最小，该数据没有缺失值。"
   ]
  },
  {
   "cell_type": "code",
   "execution_count": 17,
   "id": "da7e4ad2",
   "metadata": {},
   "outputs": [
    {
     "name": "stdout",
     "output_type": "stream",
     "text": [
      "时间戳: \n",
      " count    1.000005e+07\n",
      "mean     1.032606e+09\n",
      "std      1.159640e+08\n",
      "min      7.896520e+08\n",
      "25%      9.467659e+08\n",
      "50%      1.035476e+09\n",
      "75%      1.126749e+09\n",
      "max      1.231132e+09\n",
      "Name: timestamp, dtype: float64\n",
      "缺失值数量:  0\n"
     ]
    }
   ],
   "source": [
    "# 时间戳数据摘要\n",
    "timestamp_a = ratings_df['timestamp'].describe()\n",
    "timestamp_null = ratings_df['timestamp'].isnull().sum()\n",
    "print('时间戳: \\n',timestamp_a)\n",
    "print('缺失值数量: ',timestamp_null )"
   ]
  },
  {
   "cell_type": "code",
   "execution_count": null,
   "id": "e957ac45",
   "metadata": {},
   "outputs": [],
   "source": [
    "可以看出，时间戳数据中没有缺失值。"
   ]
  },
  {
   "cell_type": "markdown",
   "id": "13256028",
   "metadata": {},
   "source": [
    "1.2 数据可视化\n",
    "\n",
    "使用直方图、盒图等检查数据分布及离群点，对该数据集中的打分数据进行可视化"
   ]
  },
  {
   "cell_type": "code",
   "execution_count": 22,
   "id": "fe8b8d4c",
   "metadata": {},
   "outputs": [
    {
     "data": {
      "image/png": "[encoded data removed]",
      "text/plain": [
       "<Figure size 640x480 with 1 Axes>"
      ]
     },
     "metadata": {},
     "output_type": "display_data"
    },
    {
     "data": {
      "image/png": "[encoded data removed]",
      "text/plain": [
       "<Figure size 640x480 with 1 Axes>"
      ]
     },
     "metadata": {},
     "output_type": "display_data"
    }
   ],
   "source": [
    "import matplotlib.pyplot as plt\n",
    "# 绘制打分数据直⽅图\n",
    "plt.hist(ratings_df['rating'])\n",
    "plt.xlabel('rating')\n",
    "plt.ylabel('Count')\n",
    "plt.title('histogram')\n",
    "plt.show()\n",
    "#  绘制打分数据盒图\n",
    "plt.boxplot(ratings_df['rating'])\n",
    "plt.xlabel('rating')\n",
    "plt.title('Box diagram')\n",
    "plt.show()"
   ]
  },
  {
   "cell_type": "markdown",
   "id": "ba67af9e",
   "metadata": {},
   "source": [
    "1.3 数据缺失处理\n",
    "\n",
    "观察数据集中缺失数据，分析缺失原因。分别使用以下4中策略对缺失值进行处理：\n",
    "*将缺失部分剔除\n",
    "*用最高频率值来填补缺失值\n",
    "*通过属性的相关关系来填补缺失值\n",
    "*通过数据对象之间的相似性来填补缺失值\n",
    "\n",
    "经上述统计，电影数据集、打分数据集中缺失值数量为0，缺失数据集为标签数据集。"
   ]
  },
  {
   "cell_type": "code",
   "execution_count": 30,
   "id": "4e49203a",
   "metadata": {},
   "outputs": [
    {
     "name": "stdout",
     "output_type": "stream",
     "text": [
      "tag中的缺失值数量： \n",
      " userId        0\n",
      "movieId       0\n",
      "tag          16\n",
      "timestamp     0\n",
      "tag_num      16\n",
      "dtype: int64\n",
      "Tumey's DVDs                    641\n",
      "classic                         621\n",
      "based on a book                 549\n",
      "R                               518\n",
      "less than 300 ratings           505\n",
      "                               ... \n",
      "Shane Black                       1\n",
      "Michael Winterbottom              1\n",
      "I can't turn away                 1\n",
      "though I know I should . . .      1\n",
      "a old story of fight              1\n",
      "Name: tag, Length: 16528, dtype: int64\n",
      "0         2099.0\n",
      "1           59.0\n",
      "2           98.0\n",
      "3         4714.0\n",
      "4        13121.0\n",
      "          ...   \n",
      "95575     3251.0\n",
      "95576       99.0\n",
      "95577        9.0\n",
      "95578     3251.0\n",
      "95579     2546.0\n",
      "Name: tag_num, Length: 95580, dtype: float64\n"
     ]
    }
   ],
   "source": [
    "import seaborn as sns\n",
    "# 统计标签数据集中的缺失值数量\n",
    "tags_null = tags_df.isnull().sum()\n",
    "print(\"tag中的缺失值数量： \\n\",tags_null)\n",
    "\n",
    "# 统计每种tag值的数量\n",
    "tag_counts = tags_df['tag'].value_counts()\n",
    "print(tag_counts)"
   ]
  },
  {
   "cell_type": "markdown",
   "id": "7f004222",
   "metadata": {},
   "source": [
    "可以看出，标签数据集中只有tag列数据缺失。对以下4中处理缺失值的方法：\n",
    "*将缺失部分剔除\n",
    "*用最高频率值来填补缺失值\n",
    "*通过属性的相关关系来填补缺失值\n",
    "*通过数据对象之间的相似性来填补缺失值\n",
    "\n",
    "由于tag列的值为文本数据，无法通过属性的相关关系和数据对象之间的相似性完成缺失值填补，以下采用①将缺失部分剔除；②用最高频率值填补缺失值进行分析处理。"
   ]
  },
  {
   "cell_type": "code",
   "execution_count": 37,
   "id": "c2a4d5a0",
   "metadata": {},
   "outputs": [
    {
     "name": "stdout",
     "output_type": "stream",
     "text": [
      "剔除缺失值前的数据集⼤⼩:  {(95580, 5)}\n",
      "剔除缺失值后的数据集⼤⼩:  {(95564, 5)}\n",
      "将缺失部分剔除后缺失值统计：\n",
      " userId       0\n",
      "movieId      0\n",
      "tag          0\n",
      "timestamp    0\n",
      "tag_num      0\n",
      "dtype: int64\n"
     ]
    }
   ],
   "source": [
    "#①将缺失部分剔除；\n",
    "tags_dele = tags_df.dropna()\n",
    "print(\"剔除缺失值前的数据集⼤⼩: \",{tags_df.shape})\n",
    "print(\"剔除缺失值后的数据集⼤⼩: \", {tags_dele.shape})\n",
    "#统计剔除后数据缺失情况\n",
    "tags_dele_null = tags_dele.isnull().sum()\n",
    "print(\"将缺失部分剔除后缺失值统计：\\n\",tags_dele_null)"
   ]
  },
  {
   "cell_type": "markdown",
   "id": "8fac7a6a",
   "metadata": {},
   "source": [
    "可以看出，使用①将缺失部分剔除 进行缺失值处理后，数据量较初始数据少16条，处理完成后数据不再缺失。"
   ]
  },
  {
   "cell_type": "code",
   "execution_count": 42,
   "id": "68f3a631",
   "metadata": {},
   "outputs": [
    {
     "name": "stdout",
     "output_type": "stream",
     "text": [
      "用最高频率值填补缺失值前的数据集⼤⼩:  {(95580, 5)}\n",
      "用最高频率值填补缺失值后的数据集⼤⼩:  {(95580, 5)}\n",
      "将缺失部分剔除后缺失值统计：\n",
      " userId        0\n",
      "movieId       0\n",
      "tag           0\n",
      "timestamp     0\n",
      "tag_num      16\n",
      "dtype: int64\n"
     ]
    }
   ],
   "source": [
    "# ②用最高频率值填补缺失值\n",
    "fill_tag = tags_dele[\"tag\"].mode()[0]\n",
    "tags_fill = tags_df.fillna({\"tag\": fill_tag})\n",
    "print(\"用最高频率值填补缺失值前的数据集⼤⼩: \",{tags_df.shape})\n",
    "print(\"用最高频率值填补缺失值后的数据集⼤⼩: \", {tags_fill.shape})\n",
    "#统计剔除后数据缺失情况\n",
    "tags_fill_null = tags_fill.isnull().sum()\n",
    "print(\"将缺失部分剔除后缺失值统计：\\n\",tags_fill_null)"
   ]
  },
  {
   "cell_type": "markdown",
   "id": "e11ea53b",
   "metadata": {},
   "source": [
    "可以看出，使用②用最高频率值填补缺失值 进行缺失值处理后，数据量不变，且填补后标签数据集中不再有缺失数据。\n",
    "\n",
    "至此，数据集1处理完毕。"
   ]
  },
  {
   "cell_type": "markdown",
   "id": "360ef914",
   "metadata": {},
   "source": [
    "##数据集2：Alzheimer Disease and Healthy Aging Data In US\n",
    "\n",
    "导入使用的库和数据集，使用pandas导入数据,matplotlib进行数据可视化。"
   ]
  },
  {
   "cell_type": "code",
   "execution_count": 45,
   "id": "55828169",
   "metadata": {},
   "outputs": [],
   "source": [
    "import pandas as pd\n",
    "import numpy as np\n",
    "import seaborn as sns\n",
    "import matplotlib.pyplot as plt\n",
    "# 加载数据集\n",
    "df = pd.read_csv('./datasets/Alzheimer Disease and Healthy Aging Data In US.csv', low_memory=False)"
   ]
  },
  {
   "cell_type": "markdown",
   "id": "4670532e",
   "metadata": {},
   "source": [
    "2.1 数据摘要\n",
    "\n",
    "标称属性：计算每个可能取值的频数；\n",
    "数值属性：给出5数概况及缺失值的个数。"
   ]
  },
  {
   "cell_type": "code",
   "execution_count": 49,
   "id": "41a8b1e7",
   "metadata": {
    "scrolled": false
   },
   "outputs": [
    {
     "name": "stdout",
     "output_type": "stream",
     "text": [
      "每个可能取值的频数: \n",
      " 2015    45980\n",
      "2020    36006\n",
      "2019    34354\n",
      "2016    34145\n",
      "2017    33429\n",
      "2018    30548\n",
      "Name: YearStart, dtype: int64\n",
      "每个可能取值的频数: \n",
      " 2020    46966\n",
      "2015    35020\n",
      "2019    34354\n",
      "2016    34145\n",
      "2017    33429\n",
      "2018    30548\n",
      "Name: YearEnd, dtype: int64\n",
      "每个可能取值的频数: \n",
      " US      4644\n",
      "WEST    4638\n",
      "NRE     4614\n",
      "MDW     4611\n",
      "OR      4565\n",
      "NY      4557\n",
      "SOU     4542\n",
      "UT      4222\n",
      "OH      3955\n",
      "GA      3951\n",
      "MD      3919\n",
      "HI      3907\n",
      "TN      3879\n",
      "MI      3796\n",
      "VA      3758\n",
      "FL      3753\n",
      "ME      3733\n",
      "TX      3699\n",
      "NV      3696\n",
      "DC      3684\n",
      "WV      3682\n",
      "MS      3677\n",
      "PA      3648\n",
      "NM      3635\n",
      "AL      3633\n",
      "KY      3623\n",
      "AK      3611\n",
      "SC      3592\n",
      "NJ      3589\n",
      "AZ      3582\n",
      "MO      3573\n",
      "IL      3571\n",
      "IN      3570\n",
      "WI      3569\n",
      "LA      3563\n",
      "MN      3555\n",
      "NE      3546\n",
      "CT      3543\n",
      "RI      3534\n",
      "OK      3526\n",
      "SD      3526\n",
      "ND      3514\n",
      "KS      3510\n",
      "ID      3507\n",
      "IA      3501\n",
      "AR      3498\n",
      "WY      3494\n",
      "CA      3447\n",
      "CO      3390\n",
      "NC      3349\n",
      "WA      3348\n",
      "MT      3348\n",
      "DE      3346\n",
      "NH      3284\n",
      "VT      3278\n",
      "MA      3174\n",
      "PR      2797\n",
      "GU      2703\n",
      "VI       503\n",
      "Name: LocationAbbr, dtype: int64\n",
      "每个可能取值的频数: \n",
      " United States, DC & Territories    4644\n",
      "West                               4638\n",
      "Northeast                          4614\n",
      "Midwest                            4611\n",
      "Oregon                             4565\n",
      "New York                           4557\n",
      "South                              4542\n",
      "Utah                               4222\n",
      "Ohio                               3955\n",
      "Georgia                            3951\n",
      "Maryland                           3919\n",
      "Hawaii                             3907\n",
      "Tennessee                          3879\n",
      "Michigan                           3796\n",
      "Virginia                           3758\n",
      "Florida                            3753\n",
      "Maine                              3733\n",
      "Texas                              3699\n",
      "Nevada                             3696\n",
      "District of Columbia               3684\n",
      "West Virginia                      3682\n",
      "Mississippi                        3677\n",
      "Pennsylvania                       3648\n",
      "New Mexico                         3635\n",
      "Alabama                            3633\n",
      "Kentucky                           3623\n",
      "Alaska                             3611\n",
      "South Carolina                     3592\n",
      "New Jersey                         3589\n",
      "Arizona                            3582\n",
      "Missouri                           3573\n",
      "Illinois                           3571\n",
      "Indiana                            3570\n",
      "Wisconsin                          3569\n",
      "Louisiana                          3563\n",
      "Minnesota                          3555\n",
      "Nebraska                           3546\n",
      "Connecticut                        3543\n",
      "Rhode Island                       3534\n",
      "Oklahoma                           3526\n",
      "South Dakota                       3526\n",
      "North Dakota                       3514\n",
      "Kansas                             3510\n",
      "Idaho                              3507\n",
      "Iowa                               3501\n",
      "Arkansas                           3498\n",
      "Wyoming                            3494\n",
      "California                         3447\n",
      "Colorado                           3390\n",
      "North Carolina                     3349\n",
      "Washington                         3348\n",
      "Montana                            3348\n",
      "Delaware                           3346\n",
      "New Hampshire                      3284\n",
      "Vermont                            3278\n",
      "Massachusetts                      3174\n",
      "Puerto Rico                        2797\n",
      "Guam                               2703\n",
      "Virgin Islands                      503\n",
      "Name: LocationDesc, dtype: int64\n",
      "每个可能取值的频数: \n",
      " BRFSS    214462\n",
      "Name: Datasource, dtype: int64\n",
      "每个可能取值的频数: \n",
      " Overall Health                         71694\n",
      "Screenings and Vaccines                46867\n",
      "Nutrition/Physical Activity/Obesity    24851\n",
      "Cognitive Decline                      19180\n",
      "Caregiving                             18671\n",
      "Mental Health                          16600\n",
      "Smoking and Alcohol Use                16599\n",
      "Name: Class, dtype: int64\n",
      "每个可能取值的频数: \n",
      " Obesity                                                                                                   8300\n",
      "Influenza vaccine within past year                                                                        8300\n",
      "Physically unhealthy days (mean number of days)                                                           8300\n",
      "Frequent mental distress                                                                                  8300\n",
      "Current smoking                                                                                           8300\n",
      "Lifetime diagnosis of depression                                                                          8300\n",
      "No leisure-time physical activity within past month                                                       8300\n",
      "Self-rated health (fair to poor health)                                                                   8299\n",
      "Self-rated health (good to excellent health)                                                              8299\n",
      "Binge drinking within past 30 days                                                                        8299\n",
      "Ever had pneumococcal vaccine                                                                             8268\n",
      "Recent activity limitations in past month                                                                 8233\n",
      "Disability status, including sensory or mobility limitations                                              6917\n",
      "Arthritis among older adults                                                                              5511\n",
      "Fair or poor health among older adults with arthritis                                                     5447\n",
      "Subjective cognitive decline or memory loss among older adults                                            5088\n",
      "Diabetes screening within past 3 years                                                                    4808\n",
      "Talked with health care professional about subjective cognitive decline or memory loss                    4700\n",
      "Need assistance with day-to-day activities because of subjective cognitive decline or memory loss         4696\n",
      "Functional difficulties associated with subjective cognitive decline or memory loss among older adults    4696\n",
      "Fall with injury within last year                                                                         4173\n",
      "Colorectal cancer screening                                                                               4173\n",
      "Oral health:  tooth retention                                                                             4172\n",
      "Prevalence of sufficient sleep                                                                            4171\n",
      "Eating 3 or more vegetables daily                                                                         4127\n",
      "High blood pressure ever                                                                                  4127\n",
      "Cholesterol checked in past 5 years                                                                       4127\n",
      "Eating 2 or more fruits daily                                                                             4124\n",
      "Taking medication for high blood pressure                                                                 4108\n",
      "Severe joint pain among older adults with arthritis                                                       4064\n",
      "Provide care for a friend or family member in past month                                                  3848\n",
      "Expect to provide care for someone in the next two years                                                  3797\n",
      "Provide care for someone with cognitive impairment within the past month                                  3682\n",
      "Duration of caregiving among older adults                                                                 3681\n",
      "Intensity of caregiving among older adults                                                                3663\n",
      "Up-to-date with recommended vaccines and screenings - Women                                               3280\n",
      "Up-to-date with recommended vaccines and screenings - Men                                                 3271\n",
      "Mammogram within past 2 years                                                                             3271\n",
      "Pap test within past 3 years                                                                              3242\n",
      "Name: Topic, dtype: int64\n",
      "每个可能取值的频数: \n",
      " Percentage of older adults who are currently obese, with a body mass index (BMI) of 30 or more                                                                               8300\n",
      "Percentage of older adults who reported influenza vaccine within the past year                                                                                               8300\n",
      "Physically unhealthy days (mean number of days in past month)                                                                                                                8300\n",
      "Percentage of older adults who are experiencing frequent mental distress                                                                                                     8300\n",
      "Percentage of older adults who have smoked at least 100 cigarettes in their entire life and still smoke every day or some days                                               8300\n",
      "Percentage of older adults with a lifetime diagnosis of depression                                                                                                           8300\n",
      "Percentage of older adults who have not had any leisure time physical activity in the past month                                                                             8300\n",
      "Percentage of older adults who self-reported that their health is \"fair\" or \"poor\"                                                                                           8299\n",
      "Percentage of older adults who self-reported that their health is \"good\", \"very good\", or \"excellent\"                                                                        8299\n",
      "Percentage of older adults who reported binge drinking within the past 30 days                                                                                               8299\n",
      "Percentage of at risk adults (have diabetes, asthma, cardiovascular disease or currently smoke) who ever had a pneumococcal vaccine                                          8268\n",
      "Mean number of days with activity limitations in the past month                                                                                                              8233\n",
      "Percentage of older adults who report having a disability (includes limitations related to sensory or mobility impairments or a physical, mental, or emotional condition)    6917\n",
      "Percentage of older adults ever told they have arthritis                                                                                                                     5511\n",
      "Fair or poor health among older adults with doctor-diagnosed arthritis                                                                                                       5447\n",
      "Percentage of older adults who reported subjective cognitive decline or memory loss that is happening more often or is getting worse in the preceding 12 months              5088\n",
      "Percentage of older adults without diabetes who reported a blood sugar or diabetes test within 3 years                                                                       4808\n",
      "Percentage of older adults with subjective cognitive decline or memory loss who reported talking with a health care professional about it                                    4700\n",
      "Percentage of older adults who reported that as a result of subjective cognitive decline or memory loss that they need assistance with day-to-day activities                 4696\n",
      "Percentage of older adults who reported subjective cognitive decline or memory loss that interferes with their ability to engage in social activities or household chores    4696\n",
      "Percentage of older adults who have fallen and sustained an injury within last year                                                                                          4173\n",
      "Percentage of older adults who had either a home blood stool test within the past year or a sigmoidoscopy or colonoscopy within the past 10 years                            4173\n",
      "Percentage of older adults who report having lost 5 or fewer teeth due to decay or gum disease                                                                               4172\n",
      "Percentage of older adults getting sufficient sleep (>6 hours)                                                                                                               4171\n",
      "Percentage of older adults who are eating 3 or more vegetables daily                                                                                                         4127\n",
      "Percentage of older adults who have ever been told by a health professional that they have high blood pressure                                                               4127\n",
      "Percentage of older adults who had a cholesterol screening within the past 5 years                                                                                           4127\n",
      "Percentage of older adults who are eating 2 or more fruits daily                                                                                                             4124\n",
      "Percentage of older adults who have been told they have high blood pressure who report currently taking medication for their high blood pressure                             4108\n",
      "Severe joint pain due to arthritis among older adults with doctor-diagnosed arthritis                                                                                        4064\n",
      "Percentage of older adults who provided care for a friend or family member within the past month                                                                             3848\n",
      "Percentage of older adults currently not providing care who expect to provide care for someone with health problems in the next two years                                    3797\n",
      "Percentage of older adults who provided care for someone with dementia or other cognitive impairment within the past month                                                   3682\n",
      "Percentage of older adults who provided care to a friend or family member for six months or more                                                                             3681\n",
      "Average of 20 or more hours of care per week provided to a friend or family member                                                                                           3663\n",
      "Percentage of older adult women who are up to date with select clinical preventive services                                                                                  3280\n",
      "Percentage of older adult men who are up to date with select clinical preventive services                                                                                    3271\n",
      "Percentage of older adult women who have received a mammogram within the past 2 years                                                                                        3271\n",
      "Percentage of older adult women with an intact cervix who had a Pap test within the past 3 years                                                                             3242\n",
      "Name: Question, dtype: int64\n",
      "每个可能取值的频数: \n",
      " %         197929\n",
      "Number     16533\n",
      "Name: Data_Value_Unit, dtype: int64\n",
      "每个可能取值的频数: \n",
      " PRCTG    197929\n",
      "MEAN      16533\n",
      "Name: DataValueTypeID, dtype: int64\n",
      "每个可能取值的频数: \n",
      " Percentage    197929\n",
      "Mean           16533\n",
      "Name: Data_Value_Type, dtype: int64\n",
      "每个可能取值的频数: \n",
      " Age Group    214462\n",
      "Name: StratificationCategory1, dtype: int64\n",
      "每个可能取值的频数: \n",
      " Overall              71919\n",
      "50-64 years          71528\n",
      "65 years or older    71015\n",
      "Name: Stratification1, dtype: int64\n",
      "每个可能取值的频数: \n",
      " Race/Ethnicity    134959\n",
      "Gender             51834\n",
      "Name: StratificationCategory2, dtype: int64\n",
      "每个可能取值的频数: \n",
      " White, non-Hispanic         27633\n",
      "Hispanic                    27525\n",
      "Black, non-Hispanic         26968\n",
      "Native Am/Alaskan Native    26571\n",
      "Asian/Pacific Islander      26262\n",
      "Female                      26091\n",
      "Male                        25743\n",
      "Name: Stratification2, dtype: int64\n",
      "每个可能取值的频数: \n",
      " POINT (-120.1550313 44.56744942)    4565\n",
      "POINT (-75.54397043 42.82700103)    4557\n",
      "POINT (-111.5871306 39.36070017)    4222\n",
      "POINT (-82.40426006 40.06021014)    3955\n",
      "POINT (-83.62758035 32.83968109)    3951\n",
      "POINT (-76.60926011 39.29058096)    3919\n",
      "POINT (-157.8577494 21.30485044)    3907\n",
      "POINT (-85.77449091 35.68094058)    3879\n",
      "POINT (-84.71439027 44.66131954)    3796\n",
      "POINT (-78.45789046 37.54268067)    3758\n",
      "POINT (-81.92896054 28.93204038)    3753\n",
      "POINT (-68.98503134 45.25422889)    3733\n",
      "POINT (-99.42677021 31.82724041)    3699\n",
      "POINT (-117.0718406 39.49324039)    3696\n",
      "POINT (-77.036871 38.907192)        3684\n",
      "POINT (-80.71264013 38.6655102)     3682\n",
      "POINT (-89.53803082 32.7455101)     3677\n",
      "POINT (-77.86070029 40.79373015)    3648\n",
      "POINT (-106.240581 34.52088095)     3635\n",
      "POINT (-86.63186076 32.84057112)    3633\n",
      "POINT (-84.77497105 37.64597027)    3623\n",
      "POINT (-147.722059 64.84507996)     3611\n",
      "POINT (-81.04537121 33.9988213)     3592\n",
      "POINT (-74.27369129 40.13057005)    3589\n",
      "POINT (-111.7638113 34.86597028)    3582\n",
      "POINT (-92.56630005 38.63579078)    3573\n",
      "POINT (-88.99771018 40.48501028)    3571\n",
      "POINT (-86.14996019 39.76691045)    3570\n",
      "POINT (-89.81637074 44.39319117)    3569\n",
      "POINT (-92.44568007 31.31266064)    3563\n",
      "POINT (-94.7942005 46.35564874)     3555\n",
      "POINT (-99.36572062 41.64104099)    3546\n",
      "POINT (-72.64984095 41.56266102)    3543\n",
      "POINT (-71.52247031 41.70828019)    3534\n",
      "POINT (-97.52107021 35.47203136)    3526\n",
      "POINT (-100.3735306 44.35313005)    3526\n",
      "POINT (-100.118421 47.47531978)     3514\n",
      "POINT (-98.20078123 38.3477403)     3510\n",
      "POINT (-114.36373 43.68263001)      3507\n",
      "POINT (-93.81649056 42.46940091)    3501\n",
      "POINT (-92.27449074 34.74865012)    3498\n",
      "POINT (-108.1098304 43.23554134)    3494\n",
      "POINT (-120.9999995 37.63864012)    3447\n",
      "POINT (-106.1336109 38.84384076)    3390\n",
      "POINT (-79.15925046 35.46622098)    3349\n",
      "POINT (-109.4244206 47.06652897)    3348\n",
      "POINT (-120.4700108 47.52227863)    3348\n",
      "POINT (-75.57774117 39.00883067)    3346\n",
      "POINT (-71.50036092 43.65595011)    3284\n",
      "POINT (-72.51764079 43.62538124)    3278\n",
      "POINT (-72.08269067 42.27687047)    3174\n",
      "POINT (-66.590149 18.220833)        2797\n",
      "POINT (144.793731 13.444304)        2703\n",
      "POINT (-64.896335 18.335765)         503\n",
      "Name: Geolocation, dtype: int64\n"
     ]
    }
   ],
   "source": [
    "# 标称属性：计算每个可能取值的频数；\n",
    "biaocheng_attributes = ['YearStart', 'YearEnd', 'LocationAbbr', 'LocationDesc', 'Datasource', 'Class', 'Topic', 'Question','Data_Value_Unit', 'DataValueTypeID', 'Data_Value_Type', 'StratificationCategory1','Stratification1', 'StratificationCategory2', 'Stratification2', 'Geolocation']\n",
    "for attribute in biaocheng_attributes:\n",
    "    print(\"每个可能取值的频数: \\n\", df[attribute].value_counts())"
   ]
  },
  {
   "cell_type": "code",
   "execution_count": 51,
   "id": "c57f5509",
   "metadata": {},
   "outputs": [
    {
     "name": "stdout",
     "output_type": "stream",
     "text": [
      "数值属性的5数概括： \n",
      "            YearStart        YearEnd     Data_Value  Data_Value_Alt  \\\n",
      "count  214462.000000  214462.000000  144629.000000   144629.000000   \n",
      "mean     2017.378477    2017.634000      37.341956       37.341956   \n",
      "std         1.779822       1.778926      25.183017       25.183017   \n",
      "min      2015.000000    2015.000000       0.000000        0.000000   \n",
      "25%      2016.000000    2016.000000      15.300000       15.300000   \n",
      "50%      2017.000000    2018.000000      32.500000       32.500000   \n",
      "75%      2019.000000    2019.000000      56.800000       56.800000   \n",
      "max      2020.000000    2020.000000     100.000000      100.000000   \n",
      "\n",
      "       Sample_Size  \n",
      "count          0.0  \n",
      "mean           NaN  \n",
      "std            NaN  \n",
      "min            NaN  \n",
      "25%            NaN  \n",
      "50%            NaN  \n",
      "75%            NaN  \n",
      "max            NaN  \n",
      "数值属性的缺失值数量： \n",
      " YearStart                     0\n",
      "YearEnd                       0\n",
      "Data_Value                69833\n",
      "Data_Value_Alt            69833\n",
      "Low_Confidence_Limit      69990\n",
      "High_Confidence_Limit     69990\n",
      "Sample_Size              214462\n",
      "dtype: int64\n"
     ]
    }
   ],
   "source": [
    "number_attributes = ['YearStart', 'YearEnd', 'Data_Value', 'Data_Value_Alt', 'Low_Confidence_Limit', 'High_Confidence_Limit', 'Sample_Size']\n",
    "number_data = df[number_attributes]\n",
    "#数值属性的5数概括\n",
    "data_des = number_data.describe()\n",
    "print(\"数值属性的5数概括： \\n\",data_des)\n",
    "#数值属性的缺失值统计\n",
    "data_null = number_data.isna().sum()\n",
    "print(\"数值属性的缺失值数量： \\n\",data_null)"
   ]
  },
  {
   "cell_type": "markdown",
   "id": "e1c577b2",
   "metadata": {},
   "source": [
    "2.2 数据可视化"
   ]
  },
  {
   "cell_type": "code",
   "execution_count": 55,
   "id": "d002cd7e",
   "metadata": {},
   "outputs": [
    {
     "data": {
      "image/png": "[encoded data removed]",
      "text/plain": [
       "<Figure size 2000x1500 with 6 Axes>"
      ]
     },
     "metadata": {},
     "output_type": "display_data"
    }
   ],
   "source": [
    "#该数据集的直方图\n",
    "df.hist(bins=10, figsize=(20,15))\n",
    "plt.ylabel('Count')\n",
    "plt.title('histogram')\n",
    "plt.show()"
   ]
  },
  {
   "cell_type": "code",
   "execution_count": 56,
   "id": "a9726026",
   "metadata": {},
   "outputs": [
    {
     "data": {
      "image/png": "[encoded data removed]",
      "text/plain": [
       "<Figure size 640x480 with 15 Axes>"
      ]
     },
     "metadata": {},
     "output_type": "display_data"
    }
   ],
   "source": [
    "#该数据集的盒图\n",
    "#df.boxplot(figsize=(20,5))\n",
    "df.plot(kind='box', subplots=True, layout=(3,5), sharex=False, sharey=False)\n",
    "plt.tight_layout()\n",
    "plt.title('Box diagram')\n",
    "plt.show()"
   ]
  },
  {
   "cell_type": "markdown",
   "id": "4f523dc0",
   "metadata": {},
   "source": [
    "由盒图可以看出，LocationID存在离群点。"
   ]
  },
  {
   "cell_type": "code",
   "execution_count": 59,
   "id": "430b03a7",
   "metadata": {},
   "outputs": [
    {
     "name": "stdout",
     "output_type": "stream",
     "text": [
      "离群点信息： \n",
      "         YearStart  YearEnd LocationAbbr LocationDesc Datasource  \\\n",
      "19           2019     2019          MDW      Midwest      BRFSS   \n",
      "20           2020     2020          NRE    Northeast      BRFSS   \n",
      "21           2020     2020          SOU        South      BRFSS   \n",
      "22           2019     2019          SOU        South      BRFSS   \n",
      "23           2020     2020         WEST         West      BRFSS   \n",
      "...           ...      ...          ...          ...        ...   \n",
      "211547       2017     2017         WEST         West      BRFSS   \n",
      "211548       2015     2015         WEST         West      BRFSS   \n",
      "211549       2015     2015         WEST         West      BRFSS   \n",
      "211555       2015     2015         WEST         West      BRFSS   \n",
      "211558       2018     2018         WEST         West      BRFSS   \n",
      "\n",
      "                          Class  \\\n",
      "19                Mental Health   \n",
      "20      Smoking and Alcohol Use   \n",
      "21               Overall Health   \n",
      "22      Smoking and Alcohol Use   \n",
      "23               Overall Health   \n",
      "...                         ...   \n",
      "211547  Screenings and Vaccines   \n",
      "211548           Overall Health   \n",
      "211549               Caregiving   \n",
      "211555  Screenings and Vaccines   \n",
      "211558           Overall Health   \n",
      "\n",
      "                                                  Topic  \\\n",
      "19                     Lifetime diagnosis of depression   \n",
      "20                   Binge drinking within past 30 days   \n",
      "21      Physically unhealthy days (mean number of days)   \n",
      "22                   Binge drinking within past 30 days   \n",
      "23                         Arthritis among older adults   \n",
      "...                                                 ...   \n",
      "211547           Diabetes screening within past 3 years   \n",
      "211548          Self-rated health (fair to poor health)   \n",
      "211549       Intensity of caregiving among older adults   \n",
      "211555           Diabetes screening within past 3 years   \n",
      "211558          Self-rated health (fair to poor health)   \n",
      "\n",
      "                                                 Question Data_Value_Unit  \\\n",
      "19      Percentage of older adults with a lifetime dia...               %   \n",
      "20      Percentage of older adults who reported binge ...               %   \n",
      "21      Physically unhealthy days (mean number of days...          Number   \n",
      "22      Percentage of older adults who reported binge ...               %   \n",
      "23      Percentage of older adults ever told they have...               %   \n",
      "...                                                   ...             ...   \n",
      "211547  Percentage of older adults without diabetes wh...               %   \n",
      "211548  Percentage of older adults who self-reported t...               %   \n",
      "211549  Average of 20 or more hours of care per week p...               %   \n",
      "211555  Percentage of older adults without diabetes wh...               %   \n",
      "211558  Percentage of older adults who self-reported t...               %   \n",
      "\n",
      "       DataValueTypeID  ...           Stratification2  Geolocation  ClassID  \\\n",
      "19               PRCTG  ...                    Female          NaN      C05   \n",
      "20               PRCTG  ...                       NaN          NaN      C04   \n",
      "21                MEAN  ...                       NaN          NaN      C01   \n",
      "22               PRCTG  ...                       NaN          NaN      C04   \n",
      "23               PRCTG  ...       White, non-Hispanic          NaN      C01   \n",
      "...                ...  ...                       ...          ...      ...   \n",
      "211547           PRCTG  ...  Native Am/Alaskan Native          NaN      C03   \n",
      "211548           PRCTG  ...                  Hispanic          NaN      C01   \n",
      "211549           PRCTG  ...                  Hispanic          NaN      C07   \n",
      "211555           PRCTG  ...       Black, non-Hispanic          NaN      C03   \n",
      "211558           PRCTG  ...                    Female          NaN      C01   \n",
      "\n",
      "       TopicID QuestionID  LocationID StratificationCategoryID1  \\\n",
      "19       TMC03        Q27        9002                       AGE   \n",
      "20       TAC03        Q21        9001                       AGE   \n",
      "21       TOC01        Q08        9003                       AGE   \n",
      "22       TAC03        Q21        9003                       AGE   \n",
      "23       TOC11        Q43        9004                       AGE   \n",
      "...        ...        ...         ...                       ...   \n",
      "211547   TSC04        Q19        9004                       AGE   \n",
      "211548   TOC07        Q32        9004                       AGE   \n",
      "211549   TGC04        Q39        9004                       AGE   \n",
      "211555   TSC04        Q19        9004                       AGE   \n",
      "211558   TOC07        Q32        9004                       AGE   \n",
      "\n",
      "       StratificationID1 StratificationCategoryID2 StratificationID2  \n",
      "19                  5064                    GENDER            FEMALE  \n",
      "20           AGE_OVERALL                   OVERALL           OVERALL  \n",
      "21                  5064                   OVERALL           OVERALL  \n",
      "22           AGE_OVERALL                   OVERALL           OVERALL  \n",
      "23           AGE_OVERALL                      RACE               WHT  \n",
      "...                  ...                       ...               ...  \n",
      "211547              5064                      RACE               NAA  \n",
      "211548            65PLUS                      RACE               HIS  \n",
      "211549              5064                      RACE               HIS  \n",
      "211555              5064                      RACE               BLK  \n",
      "211558       AGE_OVERALL                    GENDER            FEMALE  \n",
      "\n",
      "[18405 rows x 29 columns]\n"
     ]
    }
   ],
   "source": [
    "Q1, Q3 = df['LocationID'].quantile([0.25, 0.75])\n",
    "IQR = Q3 - Q1\n",
    "lower_bound = Q1 - 1.5 * IQR\n",
    "upper_bound = Q3 + 1.5 * IQR\n",
    "outliers = df[(df['LocationID'] < lower_bound) | (df['LocationID'] > upper_bound)]\n",
    "print(\"离群点信息： \\n\",outliers)"
   ]
  },
  {
   "cell_type": "markdown",
   "id": "4cbd914d",
   "metadata": {},
   "source": [
    "2.3 缺失值处理\n",
    "\n",
    "*将缺失部分剔除\n",
    "*用最高频率值来填补缺失值\n",
    "*通过属性的相关关系来填补缺失值\n",
    "*通过数据对象之间的相似性来填补缺失值"
   ]
  },
  {
   "cell_type": "code",
   "execution_count": 60,
   "id": "62033b4f",
   "metadata": {},
   "outputs": [
    {
     "name": "stdout",
     "output_type": "stream",
     "text": [
      "各属性缺失值数量： \n",
      " YearStart                         0\n",
      "YearEnd                           0\n",
      "LocationAbbr                      0\n",
      "LocationDesc                      0\n",
      "Datasource                        0\n",
      "Class                             0\n",
      "Topic                             0\n",
      "Question                          0\n",
      "Data_Value_Unit                   0\n",
      "DataValueTypeID                   0\n",
      "Data_Value_Type                   0\n",
      "Data_Value                    69833\n",
      "Data_Value_Alt                69833\n",
      "Low_Confidence_Limit          69990\n",
      "High_Confidence_Limit         69990\n",
      "Sample_Size                  214462\n",
      "StratificationCategory1           0\n",
      "Stratification1                   0\n",
      "StratificationCategory2       27669\n",
      "Stratification2               27669\n",
      "Geolocation                   23049\n",
      "ClassID                           0\n",
      "TopicID                           0\n",
      "QuestionID                        0\n",
      "LocationID                        0\n",
      "StratificationCategoryID1         0\n",
      "StratificationID1                 0\n",
      "StratificationCategoryID2         0\n",
      "StratificationID2                 0\n",
      "dtype: int64\n"
     ]
    }
   ],
   "source": [
    "#统计各属性的缺失值情况\n",
    "missing_values_count = df.isnull().sum()\n",
    "print(\"各属性缺失值数量： \\n\", missing_values_count)"
   ]
  },
  {
   "cell_type": "markdown",
   "id": "31d72c32",
   "metadata": {},
   "source": [
    "可以看出，有8个属性存在缺失值，其中Sample_Size列数据缺失值最多。下面分别采用4种方式进行缺失值处理\n",
    "①将缺失部分剔除"
   ]
  },
  {
   "cell_type": "code",
   "execution_count": 61,
   "id": "df2c8baa",
   "metadata": {},
   "outputs": [
    {
     "name": "stdout",
     "output_type": "stream",
     "text": [
      "删除缺失值前数据集形状：  (214462, 29)\n",
      "删除缺失值后数据集形状：  (0, 29)\n"
     ]
    }
   ],
   "source": [
    "# ①将缺失部分剔除\n",
    "df_del = df.dropna()\n",
    "\n",
    "print(\"删除缺失值前数据集形状： \", df.shape)\n",
    "print(\"删除缺失值后数据集形状： \", df_del.shape)"
   ]
  },
  {
   "cell_type": "markdown",
   "id": "3c1e3045",
   "metadata": {},
   "source": [
    "可以看出，通过方式①将缺失部分剔除 进行缺失值处理后，数据集大量减少，说明该方式删除了原数据集中的大量数据，影响数据的完整性。\n",
    "\n",
    "②用最高频率值来填补缺失值"
   ]
  },
  {
   "cell_type": "code",
   "execution_count": 62,
   "id": "495537cd",
   "metadata": {},
   "outputs": [
    {
     "name": "stdout",
     "output_type": "stream",
     "text": [
      "删除缺失值前数据集形状：  (214462, 29)\n",
      "删除缺失值后数据集形状：  (214462, 29)\n"
     ]
    }
   ],
   "source": [
    "#②用最高频率值来填补缺失值\n",
    "mode = df['Data_Value'].mode()[0]\n",
    "df_fill_2 = df.fillna({'Data_Value': mode})\n",
    "print(\"用最高频率值来填补缺失值前数据集形状： \", df.shape)\n",
    "print(\"用最高频率值来填补缺失值后数据集形状： \", df_fill_2.shape)"
   ]
  },
  {
   "cell_type": "markdown",
   "id": "b00cc430",
   "metadata": {},
   "source": [
    "③通过属性的相关关系来填补缺失值"
   ]
  },
  {
   "cell_type": "code",
   "execution_count": 65,
   "id": "f72ee2f6",
   "metadata": {},
   "outputs": [
    {
     "name": "stderr",
     "output_type": "stream",
     "text": [
      "C:\\Users\\59554\\AppData\\Local\\Temp\\ipykernel_17116\\3806740763.py:4: FutureWarning: The default value of numeric_only in DataFrame.corr is deprecated. In a future version, it will default to False. Select only valid columns or specify the value of numeric_only to silence this warning.\n",
      "  corr_matrix = df_fillna_corr.corr()\n"
     ]
    },
    {
     "data": {
      "text/plain": [
       "YearStart                         0\n",
       "YearEnd                           0\n",
       "LocationAbbr                      0\n",
       "LocationDesc                      0\n",
       "Datasource                        0\n",
       "Class                             0\n",
       "Topic                             0\n",
       "Question                          0\n",
       "Data_Value_Unit                   0\n",
       "DataValueTypeID                   0\n",
       "Data_Value_Type                   0\n",
       "Data_Value                    69833\n",
       "Data_Value_Alt                69833\n",
       "Low_Confidence_Limit          69990\n",
       "High_Confidence_Limit         69990\n",
       "Sample_Size                  214462\n",
       "StratificationCategory1           0\n",
       "Stratification1                   0\n",
       "StratificationCategory2       27669\n",
       "Stratification2               27669\n",
       "Geolocation                   23049\n",
       "ClassID                           0\n",
       "TopicID                           0\n",
       "QuestionID                        0\n",
       "LocationID                        0\n",
       "StratificationCategoryID1         0\n",
       "StratificationID1                 0\n",
       "StratificationCategoryID2         0\n",
       "StratificationID2                 0\n",
       "dtype: int64"
      ]
     },
     "execution_count": 65,
     "metadata": {},
     "output_type": "execute_result"
    }
   ],
   "source": [
    "df = pd.read_csv('./datasets/Alzheimer Disease and Healthy Aging Data In US.csv', low_memory=False)\n",
    "#计算属性的相关系数\n",
    "df_fillna_corr = df.copy()\n",
    "corr_matrix = df_fillna_corr.corr()\n",
    "for column in df_fillna_corr.columns:\n",
    "    if df_fillna_corr[column].dtype != object:\n",
    "        if df_fillna_corr[column].isnull().sum() > 0:\n",
    "            correlated_column = corr_matrix[column].sort_values(ascending=False).index[1]\n",
    "            df_fillna_corr[column].fillna(df_fillna_corr.groupby(correlated_column)[column].transform('median'), inplace=True)\n",
    "df_fillna_corr.isnull().sum()"
   ]
  }
 ],
 "metadata": {
  "kernelspec": {
   "display_name": "Python 3 (ipykernel)",
   "language": "python",
   "name": "python3"
  },
  "language_info": {
   "codemirror_mode": {
    "name": "ipython",
    "version": 3
   },
   "file_extension": ".py",
   "mimetype": "text/x-python",
   "name": "python",
   "nbconvert_exporter": "python",
   "pygments_lexer": "ipython3",
   "version": "3.11.2"
  }
 },
 "nbformat": 4,
 "nbformat_minor": 5
}
